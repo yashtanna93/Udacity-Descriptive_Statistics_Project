{
 "cells": [
  {
   "cell_type": "markdown",
   "metadata": {},
   "source": [
    "# Descriptive Statistics Project"
   ]
  },
  {
   "cell_type": "markdown",
   "metadata": {},
   "source": [
    "The following experiment is carried of with the use of a standard deck of playing cards. This is a deck of fifty-two cards divided into four suits (spades (♠), hearts (♥), diamonds (♦), and clubs (♣)), each suit containing thirteen cards (Ace, numbers 2-10, and face cards Jack, Queen, and King). For the purposes of this task, each card is assigned a value: The Ace takes a value of 1, numbered cards take the value printed on the card, and the Jack, Queen, and King each take a value of 10."
   ]
  },
  {
   "cell_type": "code",
   "execution_count": 1,
   "metadata": {
    "collapsed": true
   },
   "outputs": [],
   "source": [
    "import random\n",
    "import pandas\n",
    "cards = list(range(1, 11)) + [10, 10, 10]\n",
    "cards = cards * 4\n",
    "dataset_size = 0\n",
    "dataset = []\n",
    "while(dataset_size<1000):\n",
    "    dataset.append(sum(random.sample(cards, 3)))\n",
    "    dataset_size+=1\n",
    "df = pandas.DataFrame(data = dataset)\n",
    "df.to_csv('dataset.csv', index=False, header=False)"
   ]
  },
  {
   "cell_type": "markdown",
   "metadata": {},
   "source": [
    "## Task 1\n",
    "\n",
    "Create a histogram depicting the relative frequencies of the card values."
   ]
  },
  {
   "cell_type": "code",
   "execution_count": null,
   "metadata": {
    "collapsed": true
   },
   "outputs": [],
   "source": [
    "import pandas\n",
    "import matplotlib.pyplot as plt\n",
    "cards = list(range(1, 11)) + [10, 10, 10]\n",
    "cards = cards * 4\n",
    "df = pandas.DataFrame(data = cards)\n",
    "plt.figure()\n",
    "ax = df.plot(kind='hist', bins=10, legend=False)\n",
    "ax.set_xlabel('Value of cards')\n",
    "ax.set_ylabel('Number of cards')"
   ]
  },
  {
   "cell_type": "markdown",
   "metadata": {},
   "source": [
    "## Task 2\n",
    "\n",
    "Now, we will get samples for a new distribution. To obtain a single sample, shuffle your deck of cards and draw three cards from it. (You will be sampling from the deck without replacement.) Record the cards that you have drawn and the sum of the three cards’ values. Repeat this sampling procedure a total of at least thirty times."
   ]
  },
  {
   "cell_type": "code",
   "execution_count": null,
   "metadata": {
    "collapsed": true
   },
   "outputs": [],
   "source": [
    "import random\n",
    "import pandas\n",
    "cards = list(range(1, 11)) + [10, 10, 10]\n",
    "cards = cards * 4\n",
    "dataset_size = 0\n",
    "dataset = []\n",
    "while(dataset_size<1000):\n",
    "    dataset.append(sum(random.sample(cards, 3)))\n",
    "    dataset_size+=1\n",
    "df = pandas.DataFrame(data = dataset)\n",
    "df.to_csv('dataset.csv', index=False, header=False)"
   ]
  },
  {
   "cell_type": "markdown",
   "metadata": {},
   "source": [
    "## Task 3\n",
    "\n",
    "Let’s take a look at the distribution of the card sums. Report descriptive statistics for the samples you have drawn. Include at least two measures of central tendency and two measures of variability."
   ]
  },
  {
   "cell_type": "code",
   "execution_count": null,
   "metadata": {
    "collapsed": true
   },
   "outputs": [],
   "source": [
    "import pandas\n",
    "df = pandas.read_csv('dataset.csv', header=None)\n",
    "print('Measure of Central Tendancy are:')\n",
    "print('Mean   : ' + str(df.mean()[0]))\n",
    "print('Median : ' + str(df.median()[0]))\n",
    "print('Mode   : ' + str(df.mode()[0][0]))\n",
    "print('\\nMeasure of Variability are:')\n",
    "print('Range               : ' + str(df.max()[0] - df.min()[0]))\n",
    "factor=pandas.qcut(df, [.25, .75])\n",
    "temp = factor[0][0]\n",
    "temp = temp.replace('[', '')\n",
    "temp = temp.replace(']', '')\n",
    "quartile = temp.split(', ')\n",
    "print('Interquartile Range : ' + str(int(quartile[1]) - int(quartile[0])))\n",
    "print('Variance            : ' + str(df.var(ddof=False)[0]))\n",
    "print('Standard Deviation  : ' + str(df.std(ddof=False)[0]))"
   ]
  },
  {
   "cell_type": "markdown",
   "metadata": {},
   "source": [
    "## Task 4\n",
    "\n",
    "Create a histogram of the sampled card sums you have recorded. Compare its shape to that of the original distribution. How are they different, and can you explain why this is the case?"
   ]
  },
  {
   "cell_type": "code",
   "execution_count": null,
   "metadata": {
    "collapsed": true
   },
   "outputs": [],
   "source": [
    "import pandas\n",
    "import matplotlib.pyplot as plt\n",
    "df = pandas.read_csv('dataset.csv', header=None)\n",
    "plt.figure()\n",
    "ax = df.plot(kind='hist', bins=13, legend=False)\n",
    "ax.set_xlabel('Sampled Card Sums') \n",
    "ax.set_ylabel('Frequency of Sampled Card Sums')"
   ]
  },
  {
   "cell_type": "markdown",
   "metadata": {},
   "source": [
    "The histogram of original distribution was almost uniform except the cards with value 10 had more frequency. The sampled card distribution can be understood from the original distribution. Since the original distribution has a unevenly high frequency on the right side of the histogram, the sample card sums becomes a left skewed histogram."
   ]
  },
  {
   "cell_type": "markdown",
   "metadata": {},
   "source": [
    "## Task 5\n",
    "\n",
    "Make some estimates about values you will get on future draws. Within what range will you expect approximately 90% of your draw values to fall? What is the approximate probability that you will get a draw value of at least 20? Make sure you justify how you obtained your values."
   ]
  },
  {
   "cell_type": "markdown",
   "metadata": {},
   "source": [
    "Since it a left skewed histogram, the probability to get a value would lie more in right side of the histogram. Hence for approximately 90% or more, the draws values can be calulated by finding the value for Z-Score having probability as 0.1 and then considering all the values to the right of it. ( Z(-1.28) = 0.1003 )"
   ]
  },
  {
   "cell_type": "code",
   "execution_count": null,
   "metadata": {
    "collapsed": true
   },
   "outputs": [],
   "source": [
    "import pandas\n",
    "df = pandas.read_csv('dataset.csv', header=None)\n",
    "x = -1.28 * df.std(ddof=False)[0] + df.mean()[0]\n",
    "print('Range where one can expect approximately 90% of the draw values to fall : ' + str(int(x)) + ' to ' + str(df.max()[0]))"
   ]
  },
  {
   "cell_type": "markdown",
   "metadata": {},
   "source": [
    "The approximate probability to get a value of 20 can again be calculated using Z table but this probability would less than the expected probability since the histogram is a left skewed histogram."
   ]
  },
  {
   "cell_type": "code",
   "execution_count": null,
   "metadata": {
    "collapsed": true
   },
   "outputs": [],
   "source": [
    "import pandas\n",
    "import scipy as sc\n",
    "df = pandas.read_csv('dataset.csv', header=None)\n",
    "z = (20 - df.mean()[0])/df.std()[0]\n",
    "p_values = sc.special.ndtr(z)\n",
    "print('Approximate probability that one will get a draw value of at least 20 : ' + str(p_values))"
   ]
  }
 ],
 "metadata": {
  "kernelspec": {
   "display_name": "Python 3",
   "language": "python",
   "name": "python3"
  },
  "language_info": {
   "codemirror_mode": {
    "name": "ipython",
    "version": 3
   },
   "file_extension": ".py",
   "mimetype": "text/x-python",
   "name": "python",
   "nbconvert_exporter": "python",
   "pygments_lexer": "ipython3",
   "version": "3.4.3"
  }
 },
 "nbformat": 4,
 "nbformat_minor": 0
}
